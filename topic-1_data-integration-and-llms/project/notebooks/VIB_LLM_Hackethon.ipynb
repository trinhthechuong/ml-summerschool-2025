{
 "cells": [
  {
   "cell_type": "code",
   "execution_count": 1,
   "id": "37495fe9",
   "metadata": {},
   "outputs": [],
   "source": [
    "# import libraries\n",
    "import sys\n",
    "sys.path.append(\"/Users/SJp/Documents/project_local/VIB-LLM-SS/ml-summerschool-2025/topic-1_data-integration-and-llms/project\")\n",
    "\n",
    "import pandas as pd\n",
    "import numpy as np\n",
    "import importlib\n",
    "import src.VIB_project_functions as FF\n",
    "importlib.reload(FF)\n",
    "import warnings\n",
    "warnings.filterwarnings('ignore')\n",
    "\n",
    "from langchain.chat_models import init_chat_model\n",
    "from langchain_core.messages import HumanMessage\n",
    "from langchain_core.messages import SystemMessage, HumanMessage, AIMessage\n",
    "from langchain_core.prompts import ChatPromptTemplate\n",
    "from langchain_core.output_parsers import StrOutputParser\n",
    "from langchain_core.prompts import ChatPromptTemplate\n",
    "from langchain_core.output_parsers import StrOutputParser\n",
    "from langchain_core.prompts import ChatPromptTemplate, MessagesPlaceholder\n",
    "from langchain_core.messages import HumanMessage, AIMessage, BaseMessage\n",
    "from langchain.prompts import ChatPromptTemplate\n",
    "from langchain.output_parsers import StructuredOutputParser, ResponseSchema\n",
    "from typing import Optional, List, Union\n",
    "from pydantic import BaseModel, Field, field_validator\n",
    "from typing import List, Optional\n",
    "from langchain_core.output_parsers import StrOutputParser\n",
    "from langchain_core.output_parsers import PydanticOutputParser\n",
    "import json\n",
    "import os\n",
    "import re\n",
    "import glob\n",
    "import json\n",
    "from json import JSONEncoder\n"
   ]
  },
  {
   "cell_type": "code",
   "execution_count": null,
   "id": "31a4fa1d",
   "metadata": {},
   "outputs": [],
   "source": [
    "global_path  = \"/Users/SJp/Documents/project_local/VIB-LLM-SS/ml-summerschool-2025/topic-1_data-integration-and-llms/project\"\n",
    "# Load data\n",
    "# cytokines = pd.read_csv(f\"{global_path}/data/Cytokines.csv\", header=0, index_col=0).transpose()\n",
    "# clinical = pd.read_csv(f\"{global_path}/data/Clinical.csv\", header=0, index_col=0).transpose()\n",
    "# proteomics = pd.read_csv(f\"{global_path}/data/MyelomaCells_proteomics.csv\", header=0, index_col=0).transpose()\n",
    "# drugresponse = pd.read_csv(f\"{global_path}/data/DrugResponse.csv\", header=0, index_col=0).transpose().dropna()\n",
    " \n",
    "# # make sure all the above dataframes have the same patients in the same order\n",
    "# common_patients = set(clinical.index) & set(cytokines.index) & set(proteomics.index) & set(drugresponse.index)\n",
    "# common_patients = sorted(list(common_patients))\n",
    "# clinical = clinical.loc[common_patients].sort_index()\n",
    "# cytokines = cytokines.loc[common_patients].sort_index()\n",
    "# proteomics = proteomics.loc[common_patients].sort_index()\n",
    "# drugresponse = drugresponse.loc[common_patients].sort_index()\n",
    "# clinical_numeric = pd.get_dummies(clinical)\n",
    "\n",
    "# drug_classes = pd.read_csv(f\"{global_path}/data/drugresponse_classes.csv\", index_col=0)"
   ]
  },
  {
   "cell_type": "markdown",
   "id": "c3f335c1",
   "metadata": {},
   "source": [
    "## ML model to predict the drug response"
   ]
  },
  {
   "cell_type": "code",
   "execution_count": null,
   "id": "00b9165d",
   "metadata": {},
   "outputs": [
    {
     "name": "stdout",
     "output_type": "stream",
     "text": [
      "Skipping Bendamustine_DNA-alkylating agent (class counts: Counter({np.int64(1): 35, np.int64(0): 4}))\n",
      "Skipping Bortezomib_Proteasome Inhibitor regime (class counts: Counter({np.int64(0): 21, np.int64(1): 18}))\n",
      "Skipping Carfilzomib_Proteasome Inhibitor regime (class counts: Counter({np.int64(2): 22, np.int64(1): 16, np.int64(0): 1}))\n",
      "Skipping Cisplatin_Platinum-containing (class counts: Counter({np.int64(1): 30, np.int64(0): 8, np.int64(2): 1}))\n",
      "Skipping Cyclophosphamide_DNA-alkylating agent (class counts: Counter({np.int64(1): 35, np.int64(0): 3, np.int64(2): 1}))\n",
      "Skipping Cytarabine_Nucleoitide analog (class counts: Counter({np.int64(1): 30, np.int64(2): 8, np.int64(0): 1}))\n",
      "Skipping Etoposide_Topoisomerase inhibitor (class counts: Counter({np.int64(1): 27, np.int64(2): 11, np.int64(0): 1}))\n",
      "Skipping Melphalan_DNA-alkylating agent (class counts: Counter({np.int64(1): 31, np.int64(0): 7, np.int64(2): 1}))\n",
      "Skipping Dexamethasone+Bortezomib+Cyclophosphamide_Proteasome Inhibitor regime (class counts: Counter({np.int64(1): 26, np.int64(0): 13}))\n",
      "Skipping Dexamethasone+Bortezomib+Lenalidomide_Proteasome Inhibitor regime (class counts: Counter({np.int64(2): 25, np.int64(1): 13, np.int64(0): 1}))\n",
      "Skipping Dexamethasone+Bortezomib+Thalidomide_Proteasome Inhibitor regime (class counts: Counter({np.int64(2): 24, np.int64(1): 14, np.int64(0): 1}))\n",
      "Skipping Dexamethasone+Carfilzomib+Cyclophosphamide_Proteasome Inhibitor regime (class counts: Counter({np.int64(1): 30, np.int64(0): 9}))\n",
      "Skipping Dexamethasone+Carfilzomib+Lenalidomide_Proteasome Inhibitor regime (class counts: Counter({np.int64(1): 30, np.int64(0): 9}))\n",
      "Skipping Dexamethasone+Carfilzomib+Pomalidomide_Proteasome Inhibitor regime (class counts: Counter({np.int64(1): 28, np.int64(0): 11}))\n",
      "Skipping Dexamethasone+Ixazomib+Cyclophosphamide_Proteasome Inhibitor regime (class counts: Counter({np.int64(1): 24, np.int64(2): 14, np.int64(0): 1}))\n"
     ]
    }
   ],
   "source": [
    "# results, patient_explanations=FF.run_drug_classification(\n",
    "#     proteomics, cytokines, clinical_numeric, drug_classes, \n",
    "#     output_dir=f\"{global_path}/results\")"
   ]
  },
  {
   "cell_type": "code",
   "execution_count": null,
   "id": "451016b3",
   "metadata": {},
   "outputs": [
    {
     "name": "stdout",
     "output_type": "stream",
     "text": [
      "Saved /Users/SJp/Documents/project_local/VIB-LLM-SS/ml-summerschool-2025/topic-1_data-integration-and-llms/project/results/patient_graphs_json/MM058_KG.json\n",
      "Saved /Users/SJp/Documents/project_local/VIB-LLM-SS/ml-summerschool-2025/topic-1_data-integration-and-llms/project/results/patient_graphs_json/MM028_KG.json\n",
      "Saved /Users/SJp/Documents/project_local/VIB-LLM-SS/ml-summerschool-2025/topic-1_data-integration-and-llms/project/results/patient_graphs_json/MM072_KG.json\n",
      "Saved /Users/SJp/Documents/project_local/VIB-LLM-SS/ml-summerschool-2025/topic-1_data-integration-and-llms/project/results/patient_graphs_json/MM048_KG.json\n",
      "Saved /Users/SJp/Documents/project_local/VIB-LLM-SS/ml-summerschool-2025/topic-1_data-integration-and-llms/project/results/patient_graphs_json/MM036_KG.json\n",
      "Saved /Users/SJp/Documents/project_local/VIB-LLM-SS/ml-summerschool-2025/topic-1_data-integration-and-llms/project/results/patient_graphs_json/MM092_KG.json\n",
      "Saved /Users/SJp/Documents/project_local/VIB-LLM-SS/ml-summerschool-2025/topic-1_data-integration-and-llms/project/results/patient_graphs_json/MM042_KG.json\n",
      "Saved /Users/SJp/Documents/project_local/VIB-LLM-SS/ml-summerschool-2025/topic-1_data-integration-and-llms/project/results/patient_graphs_json/MM070_KG.json\n",
      "Saved /Users/SJp/Documents/project_local/VIB-LLM-SS/ml-summerschool-2025/topic-1_data-integration-and-llms/project/results/patient_graphs_json/MM044_KG.json\n",
      "Saved /Users/SJp/Documents/project_local/VIB-LLM-SS/ml-summerschool-2025/topic-1_data-integration-and-llms/project/results/patient_graphs_json/MM062_KG.json\n",
      "Saved /Users/SJp/Documents/project_local/VIB-LLM-SS/ml-summerschool-2025/topic-1_data-integration-and-llms/project/results/patient_graphs_json/MM106_KG.json\n",
      "Saved /Users/SJp/Documents/project_local/VIB-LLM-SS/ml-summerschool-2025/topic-1_data-integration-and-llms/project/results/patient_graphs_json/MM081_KG.json\n",
      "Saved /Users/SJp/Documents/project_local/VIB-LLM-SS/ml-summerschool-2025/topic-1_data-integration-and-llms/project/results/patient_graphs_json/MM084_KG.json\n",
      "Saved /Users/SJp/Documents/project_local/VIB-LLM-SS/ml-summerschool-2025/topic-1_data-integration-and-llms/project/results/patient_graphs_json/MM049_KG.json\n",
      "Saved /Users/SJp/Documents/project_local/VIB-LLM-SS/ml-summerschool-2025/topic-1_data-integration-and-llms/project/results/patient_graphs_json/MM103_KG.json\n",
      "Saved /Users/SJp/Documents/project_local/VIB-LLM-SS/ml-summerschool-2025/topic-1_data-integration-and-llms/project/results/patient_graphs_json/MM037_KG.json\n",
      "Saved /Users/SJp/Documents/project_local/VIB-LLM-SS/ml-summerschool-2025/topic-1_data-integration-and-llms/project/results/patient_graphs_json/MM039_KG.json\n",
      "Saved /Users/SJp/Documents/project_local/VIB-LLM-SS/ml-summerschool-2025/topic-1_data-integration-and-llms/project/results/patient_graphs_json/MM078_KG.json\n",
      "Saved /Users/SJp/Documents/project_local/VIB-LLM-SS/ml-summerschool-2025/topic-1_data-integration-and-llms/project/results/patient_graphs_json/MM059_KG.json\n",
      "Saved /Users/SJp/Documents/project_local/VIB-LLM-SS/ml-summerschool-2025/topic-1_data-integration-and-llms/project/results/patient_graphs_json/MM067_KG.json\n",
      "Saved /Users/SJp/Documents/project_local/VIB-LLM-SS/ml-summerschool-2025/topic-1_data-integration-and-llms/project/results/patient_graphs_json/MM082_KG.json\n",
      "Saved /Users/SJp/Documents/project_local/VIB-LLM-SS/ml-summerschool-2025/topic-1_data-integration-and-llms/project/results/patient_graphs_json/MM051_KG.json\n",
      "Saved /Users/SJp/Documents/project_local/VIB-LLM-SS/ml-summerschool-2025/topic-1_data-integration-and-llms/project/results/patient_graphs_json/MM046_KG.json\n",
      "Saved /Users/SJp/Documents/project_local/VIB-LLM-SS/ml-summerschool-2025/topic-1_data-integration-and-llms/project/results/patient_graphs_json/MM065_KG.json\n",
      "Saved /Users/SJp/Documents/project_local/VIB-LLM-SS/ml-summerschool-2025/topic-1_data-integration-and-llms/project/results/patient_graphs_json/MM026_KG.json\n",
      "Saved /Users/SJp/Documents/project_local/VIB-LLM-SS/ml-summerschool-2025/topic-1_data-integration-and-llms/project/results/patient_graphs_json/MM023_KG.json\n",
      "Saved /Users/SJp/Documents/project_local/VIB-LLM-SS/ml-summerschool-2025/topic-1_data-integration-and-llms/project/results/patient_graphs_json/MM094_KG.json\n",
      "Saved /Users/SJp/Documents/project_local/VIB-LLM-SS/ml-summerschool-2025/topic-1_data-integration-and-llms/project/results/patient_graphs_json/MM069_KG.json\n",
      "Saved /Users/SJp/Documents/project_local/VIB-LLM-SS/ml-summerschool-2025/topic-1_data-integration-and-llms/project/results/patient_graphs_json/MM075_KG.json\n",
      "Saved /Users/SJp/Documents/project_local/VIB-LLM-SS/ml-summerschool-2025/topic-1_data-integration-and-llms/project/results/patient_graphs_json/MM021_KG.json\n",
      "Saved /Users/SJp/Documents/project_local/VIB-LLM-SS/ml-summerschool-2025/topic-1_data-integration-and-llms/project/results/patient_graphs_json/MM053_KG.json\n",
      "Saved /Users/SJp/Documents/project_local/VIB-LLM-SS/ml-summerschool-2025/topic-1_data-integration-and-llms/project/results/patient_graphs_json/MM033_KG.json\n",
      "Saved /Users/SJp/Documents/project_local/VIB-LLM-SS/ml-summerschool-2025/topic-1_data-integration-and-llms/project/results/patient_graphs_json/MM077_KG.json\n",
      "Saved /Users/SJp/Documents/project_local/VIB-LLM-SS/ml-summerschool-2025/topic-1_data-integration-and-llms/project/results/patient_graphs_json/MM079_KG.json\n",
      "Saved /Users/SJp/Documents/project_local/VIB-LLM-SS/ml-summerschool-2025/topic-1_data-integration-and-llms/project/results/patient_graphs_json/MM025_KG.json\n",
      "Saved /Users/SJp/Documents/project_local/VIB-LLM-SS/ml-summerschool-2025/topic-1_data-integration-and-llms/project/results/patient_graphs_json/MM089_KG.json\n",
      "Saved /Users/SJp/Documents/project_local/VIB-LLM-SS/ml-summerschool-2025/topic-1_data-integration-and-llms/project/results/patient_graphs_json/MM047_KG.json\n"
     ]
    }
   ],
   "source": [
    "#FF.save_patient_graphs_json(patient_explanations, results, clinical, outdir=f\"{global_path}/results/patient_graphs_json\")"
   ]
  },
  {
   "cell_type": "markdown",
   "id": "2fd7e75a",
   "metadata": {},
   "source": [
    "## LLM empowered results integration"
   ]
  },
  {
   "cell_type": "markdown",
   "id": "d590b5df",
   "metadata": {},
   "source": [
    "### Generate the summary report of drug response prediction from ML model"
   ]
  },
  {
   "cell_type": "markdown",
   "id": "60aa9f05",
   "metadata": {},
   "source": [
    "* Reading patient JSON"
   ]
  },
  {
   "cell_type": "code",
   "execution_count": 5,
   "id": "e4869b81",
   "metadata": {},
   "outputs": [],
   "source": [
    "from langchain.chat_models import init_chat_model\n",
    "from langchain_core.messages import HumanMessage\n",
    "from langchain_core.messages import SystemMessage, HumanMessage, AIMessage\n",
    "from langchain_core.prompts import ChatPromptTemplate\n",
    "from langchain_core.output_parsers import StrOutputParser\n",
    "from langchain_core.prompts import ChatPromptTemplate\n",
    "from langchain_core.output_parsers import StrOutputParser\n",
    "from langchain_core.prompts import ChatPromptTemplate, MessagesPlaceholder\n",
    "from langchain_core.messages import HumanMessage, AIMessage, BaseMessage\n",
    "from langchain.prompts import ChatPromptTemplate\n",
    "from langchain.output_parsers import StructuredOutputParser, ResponseSchema\n",
    "from typing import Optional, List, Union\n",
    "from pydantic import BaseModel, Field, field_validator\n",
    "from typing import List, Optional\n",
    "from langchain_core.output_parsers import StrOutputParser\n",
    "from langchain_core.output_parsers import PydanticOutputParser\n",
    "import json\n",
    "import os\n",
    "import re\n",
    "import glob\n",
    "import json\n",
    "from json import JSONEncoder\n"
   ]
  },
  {
   "cell_type": "code",
   "execution_count": 6,
   "id": "1cb12eef",
   "metadata": {},
   "outputs": [],
   "source": [
    "# Pick via provider:model string → works across providers\n",
    "llm = init_chat_model(model=\"gemini-2.5-flash\",\n",
    "                      model_provider=\"google_genai\",\n",
    "                      temperature=0.2)\n",
    "\n",
    "\n",
    "prompt = ChatPromptTemplate.from_messages([\n",
    "    (\"system\", \"\"\"You are a biomedical-AI assistant that interprets predictions from a AI-powered predictive model for clinicians.\n",
    "You are given a JSON with some information regarding the patient and 2 drugs. In the JSON, you are given:\n",
    "- Patient ID\n",
    "- Disease type\n",
    "- For each drug, you will be given:\n",
    "    - The drug name\n",
    "    - The predicted class. This class can be one of three options: \n",
    "        - No effect if the drug is predicted as having no effect on treating the patient disease\n",
    "        - Positive response if the drug is predicted as having a positive effect on treating the patient disease\n",
    "        - Adverse effects if the drug is predicted as having a negative effect on the patient disease\n",
    "    - Each predicted class has an associated probability\n",
    "    - Each predicted class has associated features, that are responsible for the prediction. To reflect the importance of these features on the prediction we have the SHAP values. We have the top positive SHAP values and the top negative SHAP values.\n",
    "\n",
    "Taking into account this JSON and the information explained above, I want you as a smart biomedical-AI assistant to pick the best of the two drugs. I don't want you to talk about the accuracy of the predicition for more than one sentence.\n",
    "Once you have  picked the best drug for my patient, I want you to write a small report on the chosen drug, please include both positive an negative points about the drug, make it as straigthforward as possible (a maximum of 10 bullet points in total), and targeted towards clinicians.\n",
    "After that, please write a short paragraph about the features involved in the decision making process, and look in the litterature for information about the relationship between these features and the disease the patient has.\"\"\"),\n",
    "    (\"human\", \"{JSON_input}\")\n",
    "])"
   ]
  },
  {
   "cell_type": "code",
   "execution_count": 10,
   "id": "339a1ca3",
   "metadata": {},
   "outputs": [],
   "source": [
    "\n",
    "# Path to your JSON file (e.g., patient PKG or classification output)\n",
    "json_path = f\"{global_path}/results/MM082.json\"\n",
    "\n",
    "with open(json_path, \"r\") as f:\n",
    "    patient_json = json.load(f)\n",
    "\n",
    "patient_id = \"MM082\""
   ]
  },
  {
   "cell_type": "code",
   "execution_count": 8,
   "id": "45dbdaee",
   "metadata": {},
   "outputs": [
    {
     "name": "stdout",
     "output_type": "stream",
     "text": [
      "For patient MM082, the AI-powered predictive model indicates that the **Dexamethasone+Bortezomib+Pomalidomide** regimen is the most promising option, predicting a positive therapeutic effect with a probability of 88.6%. The other three drugs were predicted to have no effect.\n",
      "\n",
      "---\n",
      "\n",
      "### Clinical Report for Dexamethasone+Bortezomib+Pomalidomide in Multiple Myeloma\n",
      "\n",
      "This regimen combines a corticosteroid (Dexamethasone), a proteasome inhibitor (Bortezomib), and an immunomodulatory drug (Pomalidomide), representing a standard multi-agent approach for Multiple Myeloma.\n",
      "\n",
      "**Positive Considerations:**\n",
      "\n",
      "*   **Predicted Efficacy:** The AI model predicts a positive therapeutic response for patient MM082, suggesting this combination is well-suited to the patient's specific molecular profile.\n",
      "*   **Synergistic Action:** This combination targets Multiple Myeloma cells through multiple pathways, enhancing anti-myeloma activity.\n",
      "*   **Established Regimen:** Bortezomib-based regimens, often combined with IMiDs and corticosteroids, are a cornerstone of Multiple Myeloma treatment with demonstrated clinical benefit.\n",
      "*   **Potential for Deep Response:** The multi-modal action increases the likelihood of achieving deep and durable responses, which is crucial for improving patient outcomes.\n",
      "\n",
      "**Negative Considerations:**\n",
      "\n",
      "*   **Toxicity Profile:** This combination carries a significant risk of side effects, including peripheral neuropathy (Bortezomib), myelosuppression (Pomalidomide), and steroid-related adverse events (Dexamethasone).\n",
      "*   **Monitoring Requirements:** Close monitoring for hematologic, neurologic, and infectious complications is essential throughout treatment.\n",
      "*   **Potential for Resistance:** While effective, some patients may develop acquired resistance to one or more components of the regimen over time.\n",
      "*   **Impact on Quality of Life:** The cumulative side effects can significantly impact a patient's quality of life.\n",
      "*   **Cost and Accessibility:** Multi-drug regimens involving novel agents can be expensive and may have accessibility limitations.\n",
      "\n",
      "---\n",
      "\n",
      "### Features Involved in Decision Making\n",
      "\n",
      "The AI model's prediction of a positive response for Dexamethasone+Bortezomib+Pomalidomide is strongly influenced by the expression levels of several proteins. High levels of **YY1**, **RHOT2**, **AFTPH**, **EIF4E2**, **UTRN**, **ALOX5AP**, **TPP2**, **AGO1**, **WASH3P|WASH2P**, and **TRADD** were identified as positive contributors to the predicted efficacy. Conversely, elevated levels of **MYO1C**, **TAP2**, **RNF113A**, **DHODH**, **IGKV3D-20**, **SLC27A3**, **C2CD2L**, **PLXDC2**, **COG4**, and **U2AF2** were associated with a reduced likelihood of a positive response.\n",
      "\n",
      "Several of these features have established roles in cancer biology, including Multiple Myeloma. For instance, **YY1** (Yin Yang 1) is a transcription factor frequently dysregulated in MM, promoting cell proliferation and survival. **EIF4E2** is involved in translation initiation, a process often hijacked in cancer cells to support uncontrolled growth. **ALOX5AP** is part of the leukotriene pathway, which has been implicated in MM cell survival and proliferation. **AGO1**, a key component of the miRNA machinery, is critical as miRNAs are known to regulate gene expression and play significant roles in MM pathogenesis, including drug resistance and sensitivity. **TRADD** is involved in TNF receptor signaling and apoptosis, pathways often dysregulated in MM. On the negative side, **TAP2** is crucial for MHC class I antigen presentation; its downregulation is a common immune evasion strategy in MM, suggesting that its higher expression in this patient might indicate a specific immune context. **DHODH** is involved in pyrimidine synthesis, and its inhibition is a therapeutic strategy in some cancers, implying that high DHODH activity might indicate a metabolic state less susceptible to this specific regimen. **U2AF2** is a splicing factor, and aberrant splicing is a known feature in MM, contributing to disease progression and drug resistance. Understanding these protein expression patterns provides valuable insights into the patient's unique disease biology and the rationale behind the AI's therapeutic recommendation.\n",
      "patient_ID='MM082' disease_type='Multiple Myeloma' recomended_drug_name='Dexamethasone+Bortezomib+Pomalidomide' info_on_recommended_drug=\"Dexamethasone+Bortezomib+Pomalidomide is a standard multi-agent regimen for Multiple Myeloma, combining a corticosteroid, a proteasome inhibitor, and an immunomodulatory drug. Positive considerations include predicted efficacy based on the patient's molecular profile, synergistic action targeting multiple pathways, its status as an established regimen with demonstrated clinical benefit, and potential for deep and durable responses. Negative considerations involve a significant risk of side effects such as peripheral neuropathy (Bortezomib), myelosuppression (Pomalidomide), and steroid-related adverse events (Dexamethasone). Close monitoring for hematologic, neurologic, and infectious complications is essential. There is also a potential for acquired resistance, impact on quality of life due to cumulative side effects, and considerations regarding cost and accessibility.\" decision_making_process=\"An AI-powered predictive model indicated that the Dexamethasone+Bortezomib+Pomalidomide regimen is the most promising option for patient MM082, predicting a positive therapeutic effect with an 88.6% probability, while other drugs were predicted to have no effect. The AI model's prediction was strongly influenced by the expression levels of several proteins. High levels of YY1, RHOT2, AFTPH, EIF4E2, UTRN, ALOX5AP, TPP2, AGO1, WASH3P|WASH2P, and TRADD were positive contributors to efficacy. Conversely, elevated levels of MYO1C, TAP2, RNF113A, DHODH, IGKV3D-20, SLC27A3, C2CD2L, PLXDC2, COG4, and U2AF2 were associated with a reduced likelihood of a positive response. These features have established roles in cancer biology, with YY1, EIF4E2, ALOX5AP, AGO1, and TRADD being relevant to MM cell proliferation, survival, and apoptosis, while TAP2, DHODH, and U2AF2 relate to immune evasion, metabolism, and aberrant splicing, respectively.\"\n"
     ]
    }
   ],
   "source": [
    "chain = prompt | llm | StrOutputParser()\n",
    "response = chain.invoke({\"JSON_input\": patient_json})\n",
    "print(response)\n",
    "\n",
    "class model_prediction_report(BaseModel):\n",
    "    patient_ID: Optional[Union[str, int]]  # \"555-1234\", 5551234, or None\n",
    "    disease_type: str = Field(description=\"e.g., Melanoma\")\n",
    "    recomended_drug_name: str = Field(description = \"e.g., Pembrolizumab\")\n",
    "    info_on_recommended_drug: str = Field(description = \"e.g., Pembrolizumab is a PD-1 inhibitor that has demonstrated significant efficacy in advanced melanoma, improving both progression-free and overall survival. Clinically, it can induce durable responses in a subset of patients. However, its use is associated with immune-related adverse effects, including colitis, hepatitis, pneumonitis, endocrinopathies (such as hypothyroidism or hypophysitis), and less commonly severe dermatologic or neurologic toxicities. Careful monitoring and prompt management of these toxicities are essential during treatment\")\n",
    "    decision_making_process: str \n",
    "\n",
    "parser = PydanticOutputParser(pydantic_object=model_prediction_report)\n",
    "format_instructions = parser.get_format_instructions()\n",
    "prompt = ChatPromptTemplate.from_messages([\n",
    "    (\"system\", \"Extract per schema:\\n{format_instructions}\"),\n",
    "    (\"human\", \"{text}\"),\n",
    "]).partial(format_instructions=format_instructions)\n",
    "\n",
    "parsing_llm = prompt | llm | parser\n",
    "\n",
    "# if `drug_text` is an AIMessage, use .content; otherwise pass the raw string\n",
    "result = parsing_llm.invoke({\"text\": response})\n",
    "print(result)\n",
    "\n",
    "class MyEncoder(JSONEncoder):\n",
    "    def default(self, o):\n",
    "        return o.__dict__\n",
    "MyEncoder().encode(result)\n",
    "\n",
    "with open(\".json\", \"w\") as f:\n",
    "    json.dump(MyEncoder().encode(result), f, indent=2)"
   ]
  },
  {
   "cell_type": "markdown",
   "id": "df69d11b",
   "metadata": {},
   "source": [
    "### Functional Analysis of SHAP Features by Predicted Drug Response Class"
   ]
  },
  {
   "cell_type": "code",
   "execution_count": 21,
   "id": "1ab127f5",
   "metadata": {},
   "outputs": [
    {
     "name": "stdout",
     "output_type": "stream",
     "text": [
      "\n",
      "### Drugs Predicted as no_effect\n",
      "The SHAP features provide insights into the functional biology supporting and opposing the \"no_effect\" prediction.\n",
      "\n",
      "**Positive SHAP features (supporting no_effect):**\n",
      "These features highlight pathways associated with the regulation of adaptive immune responses, particularly T cell proliferation and activation (involving genes like IL15, CD3E, ICAM3). Other supporting pathways include general regulation of immune response, cell-cell adhesion (CD3E, ADA), posttranscriptional regulation of gene expression (NUDT21, RBM4B), and protein-containing complex assembly (CUL1, SNX9, CD3E). There's also a mention of substantia nigra development (GLUD1, CNP). Collectively, these pathways suggest a state of controlled immune modulation, cellular organization, and gene regulation, which aligns with a \"no_effect\" outcome.\n",
      "\n",
      "**Negative SHAP features (against no_effect):**\n",
      "These features point to pathways indicative of robust innate and adaptive immune effector functions, arguing against a \"no_effect\" prediction. Prominently featured are pathways related to neutrophil activity, including neutrophil degranulation, activation, and mediated immunity (involving genes like CTSZ, HLA-B, HP, SRP14, SERPINB6). Furthermore, strong signals for T cell mediated cytotoxicity and immunity, as well as interferon-gamma-mediated signaling (with genes like HLA-B, HLA-DRA), suggest an active and potentially aggressive immune response. Other pathways opposing \"no_effect\" include the regulation of actin filament-based processes (ARHGAP18, RHOC) and regulation of neuron death (GPNMB, CTSZ). These pathways collectively suggest an active inflammatory and cytotoxic immune environment, which would likely lead to a biological effect.\n",
      "\n",
      "**Summary:**\n",
      "In essence, the \"no_effect\" prediction is supported by pathways involved in the regulation and initiation of adaptive immune responses, along with general cellular maintenance and gene expression control. Conversely, the \"no_effect\" prediction is strongly opposed by pathways representing active innate and adaptive immune effector functions, particularly those involving neutrophils and T cell-mediated cytotoxicity, as well as inflammatory signaling. This suggests that the model distinguishes between a state of immune regulation/preparation (supporting \"no_effect\") and a state of active immune attack and inflammation (opposing \"no_effect\").\n",
      "\n",
      "### Drugs Predicted as positive_effect\n",
      "The positive SHAP features indicate that processes related to **miRNA-mediated gene silencing and regulation of gene expression** are associated with a positive effect. Specifically, terms like \"negative regulation of gene expression,\" \"mRNA cleavage involved in gene silencing by miRNA,\" \"miRNA loading onto RISC,\" and \"regulation of miRNA mediated inhibition of translation\" are prominent. Key genes involved in these processes include **YY1, AGO1, and EIF4E2**. Additionally, \"lipoxin metabolic process\" (involving **ALOX5AP**), \"death-inducing signaling complex assembly\" (involving **TRADD**), and \"establishment of mitochondrion localization\" (involving **RHOT2**) also contribute to the positive effect.\n",
      "\n",
      "Conversely, the negative SHAP features suggest that **pyrimidine metabolism and biosynthesis** are associated with a negative effect, with terms such as \"pyrimidine nucleobase biosynthetic process\" and \"pyrimidine ribonucleotide metabolic process\" being significant, primarily involving the gene **DHODH**. Other pathways contributing to a negative effect include \"positive regulation of vascular endothelial growth factor signaling pathway\" (involving **MYO1C**), \"vesicle fusion with endoplasmic reticulum-Golgi intermediate compartment (ERGIC) membrane,\" \"peptide transport,\" and \"antigen processing and presentation of endogenous peptide antigen via MHC class I\" (all involving **TAP2**). \"Negative regulation of chemokine-mediated signaling pathway\" (involving **RNF113A**) also appears as a negative feature.\n"
     ]
    }
   ],
   "source": [
    "# notebook.ipynb\n",
    "import json\n",
    "from src.GSEA_bioassistant import get_llm_with_tools, get_prompt_chain, analyze_patient, save_patient_summary_html\n",
    "# --- Setup LLM + chain ---\n",
    "llm_with_tools = get_llm_with_tools()\n",
    "chain = get_prompt_chain(llm_with_tools)\n",
    "\n",
    "# --- Analyze patient ---\n",
    "results, summaries = analyze_patient(patient_json, patient_id, chain)\n",
    "\n",
    "# --- Show results ---\n",
    "for cls, summary in summaries.items():\n",
    "    print(f\"\\n### Drugs Predicted as {cls}\")\n",
    "    print(summary)"
   ]
  },
  {
   "cell_type": "code",
   "execution_count": 45,
   "id": "fc4d6b9a",
   "metadata": {},
   "outputs": [
    {
     "name": "stdout",
     "output_type": "stream",
     "text": [
      "✅ Report saved to reports/MM082_report.html\n"
     ]
    }
   ],
   "source": [
    "import json\n",
    "from json_to_html import save_html_report\n",
    "\n",
    "Outpath = \"/Users/SJp/Documents/project_local/VIB-LLM-SS/ml-summerschool-2025/topic-1_data-integration-and-llms/project/notebooks/MM082_results_prompt1_rep3.json\"\n",
    "\n",
    "# Load JSON (fix double-encoded JSON if needed)\n",
    "with open(Outpath, \"r\") as f:\n",
    "    patient_json = json.load(f)\n",
    "if isinstance(patient_json, str):\n",
    "    import json as _json\n",
    "    patient_json = _json.loads(patient_json)\n",
    "\n",
    "\n",
    "# Save to file\n",
    "save_html_report(patient_json, \"reports/MM082_report.html\")"
   ]
  },
  {
   "cell_type": "code",
   "execution_count": 33,
   "id": "75bfb581",
   "metadata": {},
   "outputs": [
    {
     "name": "stdout",
     "output_type": "stream",
     "text": [
      "✅ Report saved to reports/MM082_report.html\n"
     ]
    }
   ],
   "source": [
    "# Load patient JSON\n",
    "with open(\"/Users/SJp/Documents/project_local/VIB-LLM-SS/ml-summerschool-2025/topic-1_data-integration-and-llms/project/notebooks/MM082_results_prompt1_rep3.json\", \"r\") as f:\n",
    "    patient_json = json.load(f)\n",
    "\n",
    "# Handle double-encoded JSON\n",
    "if isinstance(patient_json, str):\n",
    "    patient_json = json.loads(patient_json)\n",
    "\n",
    "# Show in notebook (inline)\n",
    "display_html_report(patient_json)\n",
    "\n",
    "# Save to file\n",
    "save_html_report(patient_json, \"reports/MM082_report.html\")"
   ]
  },
  {
   "cell_type": "code",
   "execution_count": null,
   "id": "c6d08b25",
   "metadata": {},
   "outputs": [],
   "source": []
  },
  {
   "cell_type": "code",
   "execution_count": null,
   "id": "8ef911a1",
   "metadata": {},
   "outputs": [],
   "source": []
  },
  {
   "cell_type": "markdown",
   "id": "8c402869",
   "metadata": {},
   "source": [
    "### Summarizing patient knowledge graph"
   ]
  },
  {
   "cell_type": "code",
   "execution_count": null,
   "id": "3dad0aad",
   "metadata": {},
   "outputs": [],
   "source": []
  }
 ],
 "metadata": {
  "kernelspec": {
   "display_name": ".venv",
   "language": "python",
   "name": "python3"
  },
  "language_info": {
   "codemirror_mode": {
    "name": "ipython",
    "version": 3
   },
   "file_extension": ".py",
   "mimetype": "text/x-python",
   "name": "python",
   "nbconvert_exporter": "python",
   "pygments_lexer": "ipython3",
   "version": "3.13.7"
  }
 },
 "nbformat": 4,
 "nbformat_minor": 5
}
