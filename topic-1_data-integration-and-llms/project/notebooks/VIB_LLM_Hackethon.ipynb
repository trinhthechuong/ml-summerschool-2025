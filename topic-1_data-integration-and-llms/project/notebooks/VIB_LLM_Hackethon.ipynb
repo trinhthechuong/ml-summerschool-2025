{
 "cells": [
  {
   "cell_type": "code",
   "execution_count": 1,
   "id": "37495fe9",
   "metadata": {},
   "outputs": [],
   "source": [
    "# import libraries\n",
    "import sys\n",
    "sys.path.append(\"/Users/SJp/Documents/project_local/VIB-LLM-SS/ml-summerschool-2025/topic-1_data-integration-and-llms/project\")\n",
    "\n",
    "import pandas as pd\n",
    "import numpy as np\n",
    "import importlib\n",
    "import src.VIB_project_functions as FF\n",
    "importlib.reload(FF)\n",
    "import warnings\n",
    "warnings.filterwarnings('ignore')\n",
    "\n",
    "from langchain.chat_models import init_chat_model\n",
    "from langchain_core.messages import HumanMessage\n",
    "from langchain_core.messages import SystemMessage, HumanMessage, AIMessage\n",
    "from langchain_core.prompts import ChatPromptTemplate\n",
    "from langchain_core.output_parsers import StrOutputParser\n",
    "from langchain_core.prompts import ChatPromptTemplate\n",
    "from langchain_core.output_parsers import StrOutputParser\n",
    "from langchain_core.prompts import ChatPromptTemplate, MessagesPlaceholder\n",
    "from langchain_core.messages import HumanMessage, AIMessage, BaseMessage\n",
    "from langchain.prompts import ChatPromptTemplate\n",
    "from langchain.output_parsers import StructuredOutputParser, ResponseSchema\n",
    "from typing import Optional, List, Union\n",
    "from pydantic import BaseModel, Field, field_validator\n",
    "from typing import List, Optional\n",
    "from langchain_core.output_parsers import StrOutputParser\n",
    "from langchain_core.output_parsers import PydanticOutputParser\n",
    "import json\n",
    "import os\n",
    "import re\n",
    "import glob\n",
    "import json\n",
    "from json import JSONEncoder\n"
   ]
  },
  {
   "cell_type": "code",
   "execution_count": 2,
   "id": "31a4fa1d",
   "metadata": {},
   "outputs": [],
   "source": [
    "global_path  = \"/Users/SJp/Documents/project_local/VIB-LLM-SS/ml-summerschool-2025/topic-1_data-integration-and-llms/project\"\n",
    "# Load data\n",
    "# cytokines = pd.read_csv(f\"{global_path}/data/Cytokines.csv\", header=0, index_col=0).transpose()\n",
    "# clinical = pd.read_csv(f\"{global_path}/data/Clinical.csv\", header=0, index_col=0).transpose()\n",
    "# proteomics = pd.read_csv(f\"{global_path}/data/MyelomaCells_proteomics.csv\", header=0, index_col=0).transpose()\n",
    "# drugresponse = pd.read_csv(f\"{global_path}/data/DrugResponse.csv\", header=0, index_col=0).transpose().dropna()\n",
    " \n",
    "# # make sure all the above dataframes have the same patients in the same order\n",
    "# common_patients = set(clinical.index) & set(cytokines.index) & set(proteomics.index) & set(drugresponse.index)\n",
    "# common_patients = sorted(list(common_patients))\n",
    "# clinical = clinical.loc[common_patients].sort_index()\n",
    "# cytokines = cytokines.loc[common_patients].sort_index()\n",
    "# proteomics = proteomics.loc[common_patients].sort_index()\n",
    "# drugresponse = drugresponse.loc[common_patients].sort_index()\n",
    "# clinical_numeric = pd.get_dummies(clinical)\n",
    "\n",
    "# drug_classes = pd.read_csv(f\"{global_path}/data/drugresponse_classes.csv\", index_col=0)"
   ]
  },
  {
   "cell_type": "markdown",
   "id": "c3f335c1",
   "metadata": {},
   "source": [
    "## ML model to predict the drug response"
   ]
  },
  {
   "cell_type": "code",
   "execution_count": 3,
   "id": "00b9165d",
   "metadata": {},
   "outputs": [],
   "source": [
    "# results, patient_explanations=FF.run_drug_classification(\n",
    "#     proteomics, cytokines, clinical_numeric, drug_classes, \n",
    "#     output_dir=f\"{global_path}/results\")"
   ]
  },
  {
   "cell_type": "code",
   "execution_count": 4,
   "id": "451016b3",
   "metadata": {},
   "outputs": [],
   "source": [
    "#FF.save_patient_graphs_json(patient_explanations, results, clinical, outdir=f\"{global_path}/results/patient_graphs_json\")"
   ]
  },
  {
   "cell_type": "markdown",
   "id": "2fd7e75a",
   "metadata": {},
   "source": [
    "## LLM empowered results integration"
   ]
  },
  {
   "cell_type": "markdown",
   "id": "d590b5df",
   "metadata": {},
   "source": [
    "### Generate the summary report of drug response prediction from ML model"
   ]
  },
  {
   "cell_type": "markdown",
   "id": "60aa9f05",
   "metadata": {},
   "source": [
    "* Reading patient JSON"
   ]
  },
  {
   "cell_type": "code",
   "execution_count": 5,
   "id": "e4869b81",
   "metadata": {},
   "outputs": [],
   "source": [
    "from langchain.chat_models import init_chat_model\n",
    "from langchain_core.messages import HumanMessage\n",
    "from langchain_core.messages import SystemMessage, HumanMessage, AIMessage\n",
    "from langchain_core.prompts import ChatPromptTemplate\n",
    "from langchain_core.output_parsers import StrOutputParser\n",
    "from langchain_core.prompts import ChatPromptTemplate\n",
    "from langchain_core.output_parsers import StrOutputParser\n",
    "from langchain_core.prompts import ChatPromptTemplate, MessagesPlaceholder\n",
    "from langchain_core.messages import HumanMessage, AIMessage, BaseMessage\n",
    "from langchain.prompts import ChatPromptTemplate\n",
    "from langchain.output_parsers import StructuredOutputParser, ResponseSchema\n",
    "from typing import Optional, List, Union\n",
    "from pydantic import BaseModel, Field, field_validator\n",
    "from typing import List, Optional\n",
    "from langchain_core.output_parsers import StrOutputParser\n",
    "from langchain_core.output_parsers import PydanticOutputParser\n",
    "import json\n",
    "import os\n",
    "import re\n",
    "import glob\n",
    "import json\n",
    "from json import JSONEncoder\n"
   ]
  },
  {
   "cell_type": "code",
   "execution_count": 6,
   "id": "1cb12eef",
   "metadata": {},
   "outputs": [],
   "source": [
    "# Pick via provider:model string → works across providers\n",
    "llm = init_chat_model(model=\"gemini-2.5-flash\",\n",
    "                      model_provider=\"google_genai\",\n",
    "                      temperature=0.2)\n",
    "\n",
    "\n",
    "prompt = ChatPromptTemplate.from_messages([\n",
    "    (\"system\", \"\"\"You are a biomedical-AI assistant that interprets predictions from a AI-powered predictive model for clinicians.\n",
    "You are given a JSON with some information regarding the patient and 2 drugs. In the JSON, you are given:\n",
    "- Patient ID\n",
    "- Disease type\n",
    "- For each drug, you will be given:\n",
    "    - The drug name\n",
    "    - The predicted class. This class can be one of three options: \n",
    "        - No effect if the drug is predicted as having no effect on treating the patient disease\n",
    "        - Positive response if the drug is predicted as having a positive effect on treating the patient disease\n",
    "        - Adverse effects if the drug is predicted as having a negative effect on the patient disease\n",
    "    - Each predicted class has an associated probability\n",
    "    - Each predicted class has associated features, that are responsible for the prediction. To reflect the importance of these features on the prediction we have the SHAP values. We have the top positive SHAP values and the top negative SHAP values.\n",
    "\n",
    "Taking into account this JSON and the information explained above, I want you as a smart biomedical-AI assistant to pick the best of the two drugs. I don't want you to talk about the accuracy of the predicition for more than one sentence.\n",
    "Once you have  picked the best drug for my patient, I want you to write a small report on the chosen drug, please include both positive an negative points about the drug, make it as straigthforward as possible (a maximum of 10 bullet points in total), and targeted towards clinicians.\n",
    "After that, please write a short paragraph about the features involved in the decision making process, and look in the litterature for information about the relationship between these features and the disease the patient has.\"\"\"),\n",
    "    (\"human\", \"{JSON_input}\")\n",
    "])"
   ]
  },
  {
   "cell_type": "code",
   "execution_count": 7,
   "id": "339a1ca3",
   "metadata": {},
   "outputs": [],
   "source": [
    "\n",
    "# Path to your JSON file (e.g., patient PKG or classification output)\n",
    "json_path = f\"{global_path}/results/MM082.json\"\n",
    "\n",
    "with open(json_path, \"r\") as f:\n",
    "    patient_json = json.load(f)\n",
    "\n",
    "patient_id = \"MM082\""
   ]
  },
  {
   "cell_type": "code",
   "execution_count": null,
   "id": "45dbdaee",
   "metadata": {},
   "outputs": [],
   "source": [
    "chain = prompt | llm | StrOutputParser()\n",
    "response = chain.invoke({\"JSON_input\": patient_json})\n",
    "print(response)\n",
    "\n",
    "class model_prediction_report(BaseModel):\n",
    "    patient_ID: Optional[Union[str, int]]  # \"555-1234\", 5551234, or None\n",
    "    disease_type: str = Field(description=\"e.g., Melanoma\")\n",
    "    recomended_drug_name: str = Field(description = \"e.g., Pembrolizumab\")\n",
    "    info_on_recommended_drug: str = Field(description = \"e.g., Pembrolizumab is a PD-1 inhibitor that has demonstrated significant efficacy in advanced melanoma, improving both progression-free and overall survival. Clinically, it can induce durable responses in a subset of patients. However, its use is associated with immune-related adverse effects, including colitis, hepatitis, pneumonitis, endocrinopathies (such as hypothyroidism or hypophysitis), and less commonly severe dermatologic or neurologic toxicities. Careful monitoring and prompt management of these toxicities are essential during treatment\")\n",
    "    decision_making_process: str \n",
    "\n",
    "parser = PydanticOutputParser(pydantic_object=model_prediction_report)\n",
    "format_instructions = parser.get_format_instructions()\n",
    "prompt = ChatPromptTemplate.from_messages([\n",
    "    (\"system\", \"Extract per schema:\\n{format_instructions}\"),\n",
    "    (\"human\", \"{text}\"),\n",
    "]).partial(format_instructions=format_instructions)\n",
    "\n",
    "parsing_llm = prompt | llm | parser\n",
    "\n",
    "# if `drug_text` is an AIMessage, use .content; otherwise pass the raw string\n",
    "result1 = parsing_llm.invoke({\"text\": response})\n",
    "print(result1)\n",
    "\n",
    "# class MyEncoder(JSONEncoder):\n",
    "#     def default(self, o):\n",
    "#         return o.__dict__\n",
    "# MyEncoder().encode(result)\n",
    "\n",
    "# with open(\".json\", \"w\") as f:\n",
    "#     json.dump(MyEncoder().encode(result), f, indent=2)"
   ]
  },
  {
   "cell_type": "markdown",
   "id": "df69d11b",
   "metadata": {},
   "source": [
    "### Functional Analysis of SHAP Features by Predicted Drug Response Class"
   ]
  },
  {
   "cell_type": "code",
   "execution_count": null,
   "id": "1ab127f5",
   "metadata": {},
   "outputs": [
    {
     "name": "stderr",
     "output_type": "stream",
     "text": [
      "/Users/SJp/Documents/project_local/VIB-LLM-SS/ml-summerschool-2025/topic-1_data-integration-and-llms/project/src/GSEA_bioassistant.py:90: LangChainDeprecationWarning: The method `BaseTool.__call__` was deprecated in langchain-core 0.1.47 and will be removed in 1.0. Use :meth:`~invoke` instead.\n",
      "  enrichr_query({\"gene_list\": list(set(feats[\"positive\"]))}) if feats[\"positive\"] else None\n"
     ]
    },
    {
     "name": "stdout",
     "output_type": "stream",
     "text": [
      "\n",
      "### Drugs Predicted as no_effect\n",
      "The SHAP features highlight distinct aspects of immune system regulation.\n",
      "\n",
      "**Positive SHAP features (supporting 'no_effect')** are primarily associated with the **regulation of T cell proliferation and activation**, as well as **cell-cell adhesion**. Key terms include \"regulation of immune response,\" \"positive regulation of T cell proliferation,\" \"positive regulation of T cell activation,\" and \"regulation of cell-cell adhesion mediated by integrin.\" Genes such as **CD3E** (a component of the T cell receptor complex) and **IL15** (a cytokine involved in lymphocyte proliferation) are prominent in these pathways, suggesting a role in maintaining or modulating general T cell activity rather than initiating a strong effector response.\n",
      "\n",
      "**Negative SHAP features (against 'no_effect')** point towards more robust and specific immune responses, particularly **neutrophil activation and degranulation**, and **T cell mediated cytotoxicity**, along with **interferon-gamma-mediated signaling**. Terms like \"neutrophil degranulation,\" \"positive regulation of T cell mediated cytotoxicity,\" \"neutrophil mediated immunity,\" and \"interferon-gamma-mediated signaling pathway\" are strongly represented. Genes such as **HLA-B** and **HLA-DRA** (components of the Major Histocompatibility Complex, crucial for antigen presentation and T cell activation) and **CTSZ** (a lysosomal cysteine protease involved in immune processes) are key players in these pathways, indicating a more active and potentially damaging immune response.\n",
      "\n",
      "In summary, the 'no_effect' prediction is supported by pathways related to general immune regulation and T cell modulation, while it is opposed by pathways indicative of strong, effector-driven immune responses involving neutrophils and cytotoxic T cells.\n",
      "\n",
      "### Drugs Predicted as positive_effect\n",
      "The positive SHAP features highlight the importance of gene regulation, particularly through microRNA (miRNA) pathways, in supporting the positive effect. Key processes include the negative regulation of gene expression, mRNA cleavage, and miRNA loading onto the RNA-induced silencing complex (RISC), with genes like AGO1, EIF4E2, and YY1 being central. Other contributing pathways involve lipoxin metabolic and biosynthetic processes (ALOX5AP), establishment of mitochondrion localization (RHOT2), and death-inducing signaling complex assembly (TRADD).\n",
      "\n",
      "Conversely, the negative SHAP features, which argue against the positive effect, are associated with processes such as pyrimidine nucleobase and ribonucleotide metabolism (DHODH), positive regulation of vascular endothelial growth factor signaling (MYO1C), vesicle fusion and peptide transport (TAP2), and the regulation of chemokine-mediated signaling pathways (RNF113A). These pathways appear to counteract the observed positive effect.\n"
     ]
    }
   ],
   "source": [
    "# notebook.ipynb\n",
    "import json\n",
    "from src.GSEA_bioassistant import get_llm_with_tools, get_prompt_chain, analyze_patient, save_patient_summary_html\n",
    "# --- Setup LLM + chain ---\n",
    "llm_with_tools = get_llm_with_tools()\n",
    "chain = get_prompt_chain(llm_with_tools)\n",
    "\n",
    "# --- Analyze patient ---\n",
    "results, summaries = analyze_patient(patient_json, patient_id, chain)\n",
    "\n",
    "# --- Show results ---\n",
    "for cls, summary in summaries.items():\n",
    "    print(f\"\\n### Drugs Predicted as {cls}\")\n",
    "    print(summary)"
   ]
  },
  {
   "cell_type": "markdown",
   "id": "7b80288c",
   "metadata": {},
   "source": [
    "### **Open FDA Drug Information**"
   ]
  },
  {
   "cell_type": "code",
   "execution_count": null,
   "id": "f3b86cf3",
   "metadata": {},
   "outputs": [
    {
     "name": "stdout",
     "output_type": "stream",
     "text": [
      "ibuprofen\n",
      "\n",
      "=== purpose ===\n",
      "Purpose Pain reliever/fever reducer\n",
      "\n",
      "=== indications_and_usage ===\n",
      "Uses temporarily relieves minor aches and pains due to: headache toothache backache menstrual cramps the common cold muscular aches minor pain of arthritis temporarily reduces fever\n",
      "\n",
      "=== warnings ===\n",
      "Warnings Allergy alert: Ibuprofen may cause a severe allergic reaction, especially in people allergic to aspirin. Symptoms may include: rash facial swelling asthma (wheezing) hives skin reddening shock blisters If an allergic reaction occurs, stop use and seek medical help right away. Stomach bleeding warning: This product contains an NSAID, which may cause severe stomach bleeding. The chance is higher if you: take more or for a longer time than directed take a blood thinning (anticoagulant) or steroid drug have had stomach ulcers or bleeding problems have 3 or more alcoholic drinks every day while using this product are age 60 or older take other drugs containing prescription or nonprescription NSAIDs [aspirin, ibuprofen, naproxen, or others] Heart attack and stroke warning: NSAIDs, excep\n",
      "\n",
      "=== dosage_and_administration ===\n",
      "Directions do not take more than directed the smallest effective dose should be used adults and children 12 years and over: take 1 tablet every 4 to 6 hours while symptoms persist if pain or fever does not respond to 1 tablet, 2 tablets may be used do not exceed 6 tablets in 24 hours, unless directed by a doctor children under 12 years: ask a doctor\n"
     ]
    }
   ],
   "source": [
    "import requests, urllib.parse\n",
    "\n",
    "def get_openfda_label(ingredient):\n",
    "    # Standardize ingredient name\n",
    "    ingredient = urllib.parse.quote(ingredient)\n",
    "    print(ingredient)\n",
    "    base = \"https://api.fda.gov/drug/label.json\"\n",
    "    q = f'openfda.substance_name:\"{ingredient}\"'\n",
    "    r = requests.get(base, params={\"search\": q, \"limit\": 1})\n",
    "    r.raise_for_status()\n",
    "    res = r.json().get(\"results\", [])\n",
    "    if not res:\n",
    "        q2 = f'openfda.brand_name:\"{ingredient}\"'\n",
    "        r = requests.get(base, params={\"search\": q2, \"limit\": 1})\n",
    "        r.raise_for_status()\n",
    "        res = r.json().get(\"results\", [])\n",
    "        if not res:\n",
    "            return None\n",
    "    return res[0]\n",
    "\n",
    "item = get_openfda_label(\"ibuprofen\")\n",
    "\n",
    "if item:\n",
    "    for key in (\"purpose\",\"indications_and_usage\", \"adverse_reactions\", \"warnings\", \"dosage_and_administration\"):\n",
    "        if key in item:\n",
    "            print(f\"\\n=== {key} ===\\n{item[key][0][:800]}\")\n",
    "else:\n",
    "    print(\"Cannot find record on openFDA for that name.\")"
   ]
  },
  {
   "cell_type": "markdown",
   "id": "977032dd",
   "metadata": {},
   "source": [
    "### Combine results in one JSON"
   ]
  },
  {
   "cell_type": "code",
   "execution_count": null,
   "id": "1730142b",
   "metadata": {},
   "outputs": [
    {
     "name": "stdout",
     "output_type": "stream",
     "text": [
      "Wrote combined JSON → /Users/SJp/Documents/project_local/VIB-LLM-SS/ml-summerschool-2025/topic-1_data-integration-and-llms/project/combined/MM082_combined.json\n"
     ]
    }
   ],
   "source": [
    "# --- Combine everything into one JSON and save ---\n",
    "from datetime import datetime\n",
    "\n",
    "def _as_dict(x):\n",
    "    \"\"\"Make objects JSON-serializable.\"\"\"\n",
    "    if x is None:\n",
    "        return None\n",
    "    if hasattr(x, \"model_dump\"):\n",
    "        return x.model_dump()\n",
    "    if hasattr(x, \"dict\"):\n",
    "        return x.dict()\n",
    "    if hasattr(x, \"to_dict\"):  # pandas DataFrame, Series, etc.\n",
    "        return x.to_dict()\n",
    "    if isinstance(x, (list, tuple)):\n",
    "        return [_as_dict(i) for i in x]\n",
    "    if isinstance(x, dict):\n",
    "        return {k: _as_dict(v) for k, v in x.items()}\n",
    "    return x  # assume it's a primitive type\n",
    "\n",
    "\n",
    "combined = {\n",
    "    \"patient_id\": patient_id,\n",
    "    \"disease_type\": (\n",
    "        getattr(result1, \"disease_type\", None)\n",
    "        or patient_json.get(\"disease_type\")\n",
    "    ),\n",
    "    \"models\": {\n",
    "        \"chat_model\": \"gemini-2.5-flash\",\n",
    "        \"temperature\": 0.2,\n",
    "    },\n",
    "    \"raw_input\": _as_dict(patient_json),\n",
    "    \"assistant_free_text_report\": (\n",
    "        response.content if hasattr(response, \"content\") else str(response)\n",
    "    ),\n",
    "    \"assistant_structured_report\": _as_dict(result1),\n",
    "    \"prediction_pipeline\": {\n",
    "        \"results\": _as_dict(results),      # handles DataFrames\n",
    "        \"summaries\": _as_dict(summaries),  # handles dict of strings / dfs\n",
    "    },\n",
    "}\n",
    "\n",
    "\n",
    "# Save next to your other outputs\n",
    "os.makedirs(os.path.join(global_path, \"combined\"), exist_ok=True)\n",
    "out_path = os.path.join(global_path, \"combined\", f\"{patient_id}_combined.json\")\n",
    "\n",
    "with open(out_path, \"w\", encoding=\"utf-8\") as f:\n",
    "    json.dump(combined, f, indent=2, ensure_ascii=False)\n",
    "\n",
    "\n",
    "print(f\"Wrote combined JSON → {out_path}\")\n"
   ]
  },
  {
   "cell_type": "code",
   "execution_count": null,
   "id": "c43fd315",
   "metadata": {},
   "outputs": [],
   "source": [
    "# import json\n",
    "# from json_to_html import save_html_report\n",
    "\n",
    "# Outpath = \"/Users/SJp/Documents/project_local/VIB-LLM-SS/ml-summerschool-2025/topic-1_data-integration-and-llms/project/combined/MM082_combined.json\"\n",
    "\n",
    "# # Load JSON (fix double-encoded JSON if needed)\n",
    "# with open(Outpath, \"r\") as f:\n",
    "#     patient_json = json.load(f)\n",
    "# if isinstance(patient_json, str):\n",
    "#     import json as _json\n",
    "#     patient_json = _json.loads(patient_json)\n",
    "\n",
    "\n",
    "# # Save to file\n",
    "# save_html_report(patient_json, \"reports/MM082_report.html\")"
   ]
  }
 ],
 "metadata": {
  "kernelspec": {
   "display_name": "project-vib",
   "language": "python",
   "name": "python3"
  },
  "language_info": {
   "codemirror_mode": {
    "name": "ipython",
    "version": 3
   },
   "file_extension": ".py",
   "mimetype": "text/x-python",
   "name": "python",
   "nbconvert_exporter": "python",
   "pygments_lexer": "ipython3",
   "version": "3.11.8"
  }
 },
 "nbformat": 4,
 "nbformat_minor": 5
}
