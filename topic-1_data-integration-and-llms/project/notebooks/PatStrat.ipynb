{
 "cells": [
  {
   "cell_type": "code",
   "execution_count": 1,
   "id": "31a4fa1d",
   "metadata": {},
   "outputs": [],
   "source": [
    "import sys\n",
    "sys.path.append(\"/Users/SJp/Documents/project_local/VIB-LLM-SS/ml-summerschool-2025/topic-1_data-integration-and-llms/project\")\n",
    "\n",
    "import pandas as pd\n",
    "import numpy as np\n",
    "import importlib\n",
    "import src.VIB_project_functions as FF\n",
    "importlib.reload(FF)\n",
    "\n",
    "\n",
    "global_path  = \"/Users/SJp/Documents/project_local/VIB-LLM-SS/ml-summerschool-2025/topic-1_data-integration-and-llms/project\"\n",
    "\n",
    " # Load data\n",
    "cytokines = pd.read_csv(f\"{global_path}/data/Cytokines.csv\", header=0, index_col=0).transpose()\n",
    "clinical = pd.read_csv(f\"{global_path}/data/Clinical.csv\", header=0, index_col=0).transpose()\n",
    "proteomics = pd.read_csv(f\"{global_path}/data/MyelomaCells_proteomics.csv\", header=0, index_col=0).transpose()\n",
    "drugresponse = pd.read_csv(f\"{global_path}/data/DrugResponse.csv\", header=0, index_col=0).transpose().dropna()\n",
    " \n",
    "# make sure all the above dataframes have the same patients in the same order\n",
    "common_patients = set(clinical.index) & set(cytokines.index) & set(proteomics.index) & set(drugresponse.index)\n",
    "common_patients = sorted(list(common_patients))\n",
    "clinical = clinical.loc[common_patients].sort_index()\n",
    "cytokines = cytokines.loc[common_patients].sort_index()\n",
    "proteomics = proteomics.loc[common_patients].sort_index()\n",
    "drugresponse = drugresponse.loc[common_patients].sort_index()\n",
    "clinical_numeric = pd.get_dummies(clinical)\n",
    "\n",
    "\n",
    "drug_classes = pd.read_csv(f\"{global_path}/data/drugresponse_classes.csv\", index_col=0)"
   ]
  },
  {
   "cell_type": "markdown",
   "id": "c3f335c1",
   "metadata": {},
   "source": [
    "## ML model to predict the drug response"
   ]
  },
  {
   "cell_type": "code",
   "execution_count": null,
   "id": "00b9165d",
   "metadata": {},
   "outputs": [
    {
     "name": "stdout",
     "output_type": "stream",
     "text": [
      "Skipping Bendamustine_DNA-alkylating agent (class counts: Counter({np.int64(1): 35, np.int64(0): 4}))\n",
      "Skipping Bortezomib_Proteasome Inhibitor regime (class counts: Counter({np.int64(0): 21, np.int64(1): 18}))\n",
      "Skipping Carfilzomib_Proteasome Inhibitor regime (class counts: Counter({np.int64(2): 22, np.int64(1): 16, np.int64(0): 1}))\n",
      "Skipping Cisplatin_Platinum-containing (class counts: Counter({np.int64(1): 30, np.int64(0): 8, np.int64(2): 1}))\n",
      "Skipping Cyclophosphamide_DNA-alkylating agent (class counts: Counter({np.int64(1): 35, np.int64(0): 3, np.int64(2): 1}))\n",
      "Skipping Cytarabine_Nucleoitide analog (class counts: Counter({np.int64(1): 30, np.int64(2): 8, np.int64(0): 1}))\n",
      "Skipping Etoposide_Topoisomerase inhibitor (class counts: Counter({np.int64(1): 27, np.int64(2): 11, np.int64(0): 1}))\n",
      "Skipping Melphalan_DNA-alkylating agent (class counts: Counter({np.int64(1): 31, np.int64(0): 7, np.int64(2): 1}))\n",
      "Skipping Dexamethasone+Bortezomib+Cyclophosphamide_Proteasome Inhibitor regime (class counts: Counter({np.int64(1): 26, np.int64(0): 13}))\n",
      "Skipping Dexamethasone+Bortezomib+Lenalidomide_Proteasome Inhibitor regime (class counts: Counter({np.int64(2): 25, np.int64(1): 13, np.int64(0): 1}))\n",
      "Skipping Dexamethasone+Bortezomib+Thalidomide_Proteasome Inhibitor regime (class counts: Counter({np.int64(2): 24, np.int64(1): 14, np.int64(0): 1}))\n",
      "Skipping Dexamethasone+Carfilzomib+Cyclophosphamide_Proteasome Inhibitor regime (class counts: Counter({np.int64(1): 30, np.int64(0): 9}))\n",
      "Skipping Dexamethasone+Carfilzomib+Lenalidomide_Proteasome Inhibitor regime (class counts: Counter({np.int64(1): 30, np.int64(0): 9}))\n",
      "Skipping Dexamethasone+Carfilzomib+Pomalidomide_Proteasome Inhibitor regime (class counts: Counter({np.int64(1): 28, np.int64(0): 11}))\n",
      "Skipping Dexamethasone+Ixazomib+Cyclophosphamide_Proteasome Inhibitor regime (class counts: Counter({np.int64(1): 24, np.int64(2): 14, np.int64(0): 1}))\n"
     ]
    }
   ],
   "source": [
    "\n",
    "import warnings\n",
    "warnings.filterwarnings('ignore')\n",
    "\n",
    "results, patient_explanations=FF.run_drug_classification(\n",
    "    proteomics, cytokines, clinical_numeric, drug_classes, \n",
    "    output_dir=f\"{global_path}/results\")"
   ]
  },
  {
   "cell_type": "code",
   "execution_count": 3,
   "id": "451016b3",
   "metadata": {},
   "outputs": [
    {
     "name": "stdout",
     "output_type": "stream",
     "text": [
      "Saved /Users/SJp/Documents/project_local/VIB-LLM-SS/ml-summerschool-2025/topic-1_data-integration-and-llms/project/results/patient_graphs_json/MM058_KG.json\n",
      "Saved /Users/SJp/Documents/project_local/VIB-LLM-SS/ml-summerschool-2025/topic-1_data-integration-and-llms/project/results/patient_graphs_json/MM028_KG.json\n",
      "Saved /Users/SJp/Documents/project_local/VIB-LLM-SS/ml-summerschool-2025/topic-1_data-integration-and-llms/project/results/patient_graphs_json/MM072_KG.json\n",
      "Saved /Users/SJp/Documents/project_local/VIB-LLM-SS/ml-summerschool-2025/topic-1_data-integration-and-llms/project/results/patient_graphs_json/MM048_KG.json\n",
      "Saved /Users/SJp/Documents/project_local/VIB-LLM-SS/ml-summerschool-2025/topic-1_data-integration-and-llms/project/results/patient_graphs_json/MM036_KG.json\n",
      "Saved /Users/SJp/Documents/project_local/VIB-LLM-SS/ml-summerschool-2025/topic-1_data-integration-and-llms/project/results/patient_graphs_json/MM092_KG.json\n",
      "Saved /Users/SJp/Documents/project_local/VIB-LLM-SS/ml-summerschool-2025/topic-1_data-integration-and-llms/project/results/patient_graphs_json/MM042_KG.json\n",
      "Saved /Users/SJp/Documents/project_local/VIB-LLM-SS/ml-summerschool-2025/topic-1_data-integration-and-llms/project/results/patient_graphs_json/MM070_KG.json\n",
      "Saved /Users/SJp/Documents/project_local/VIB-LLM-SS/ml-summerschool-2025/topic-1_data-integration-and-llms/project/results/patient_graphs_json/MM044_KG.json\n",
      "Saved /Users/SJp/Documents/project_local/VIB-LLM-SS/ml-summerschool-2025/topic-1_data-integration-and-llms/project/results/patient_graphs_json/MM062_KG.json\n",
      "Saved /Users/SJp/Documents/project_local/VIB-LLM-SS/ml-summerschool-2025/topic-1_data-integration-and-llms/project/results/patient_graphs_json/MM106_KG.json\n",
      "Saved /Users/SJp/Documents/project_local/VIB-LLM-SS/ml-summerschool-2025/topic-1_data-integration-and-llms/project/results/patient_graphs_json/MM081_KG.json\n",
      "Saved /Users/SJp/Documents/project_local/VIB-LLM-SS/ml-summerschool-2025/topic-1_data-integration-and-llms/project/results/patient_graphs_json/MM084_KG.json\n",
      "Saved /Users/SJp/Documents/project_local/VIB-LLM-SS/ml-summerschool-2025/topic-1_data-integration-and-llms/project/results/patient_graphs_json/MM049_KG.json\n",
      "Saved /Users/SJp/Documents/project_local/VIB-LLM-SS/ml-summerschool-2025/topic-1_data-integration-and-llms/project/results/patient_graphs_json/MM103_KG.json\n",
      "Saved /Users/SJp/Documents/project_local/VIB-LLM-SS/ml-summerschool-2025/topic-1_data-integration-and-llms/project/results/patient_graphs_json/MM037_KG.json\n",
      "Saved /Users/SJp/Documents/project_local/VIB-LLM-SS/ml-summerschool-2025/topic-1_data-integration-and-llms/project/results/patient_graphs_json/MM039_KG.json\n",
      "Saved /Users/SJp/Documents/project_local/VIB-LLM-SS/ml-summerschool-2025/topic-1_data-integration-and-llms/project/results/patient_graphs_json/MM078_KG.json\n",
      "Saved /Users/SJp/Documents/project_local/VIB-LLM-SS/ml-summerschool-2025/topic-1_data-integration-and-llms/project/results/patient_graphs_json/MM059_KG.json\n",
      "Saved /Users/SJp/Documents/project_local/VIB-LLM-SS/ml-summerschool-2025/topic-1_data-integration-and-llms/project/results/patient_graphs_json/MM067_KG.json\n",
      "Saved /Users/SJp/Documents/project_local/VIB-LLM-SS/ml-summerschool-2025/topic-1_data-integration-and-llms/project/results/patient_graphs_json/MM082_KG.json\n",
      "Saved /Users/SJp/Documents/project_local/VIB-LLM-SS/ml-summerschool-2025/topic-1_data-integration-and-llms/project/results/patient_graphs_json/MM051_KG.json\n",
      "Saved /Users/SJp/Documents/project_local/VIB-LLM-SS/ml-summerschool-2025/topic-1_data-integration-and-llms/project/results/patient_graphs_json/MM046_KG.json\n",
      "Saved /Users/SJp/Documents/project_local/VIB-LLM-SS/ml-summerschool-2025/topic-1_data-integration-and-llms/project/results/patient_graphs_json/MM065_KG.json\n",
      "Saved /Users/SJp/Documents/project_local/VIB-LLM-SS/ml-summerschool-2025/topic-1_data-integration-and-llms/project/results/patient_graphs_json/MM026_KG.json\n",
      "Saved /Users/SJp/Documents/project_local/VIB-LLM-SS/ml-summerschool-2025/topic-1_data-integration-and-llms/project/results/patient_graphs_json/MM023_KG.json\n",
      "Saved /Users/SJp/Documents/project_local/VIB-LLM-SS/ml-summerschool-2025/topic-1_data-integration-and-llms/project/results/patient_graphs_json/MM094_KG.json\n",
      "Saved /Users/SJp/Documents/project_local/VIB-LLM-SS/ml-summerschool-2025/topic-1_data-integration-and-llms/project/results/patient_graphs_json/MM069_KG.json\n",
      "Saved /Users/SJp/Documents/project_local/VIB-LLM-SS/ml-summerschool-2025/topic-1_data-integration-and-llms/project/results/patient_graphs_json/MM075_KG.json\n",
      "Saved /Users/SJp/Documents/project_local/VIB-LLM-SS/ml-summerschool-2025/topic-1_data-integration-and-llms/project/results/patient_graphs_json/MM021_KG.json\n",
      "Saved /Users/SJp/Documents/project_local/VIB-LLM-SS/ml-summerschool-2025/topic-1_data-integration-and-llms/project/results/patient_graphs_json/MM053_KG.json\n",
      "Saved /Users/SJp/Documents/project_local/VIB-LLM-SS/ml-summerschool-2025/topic-1_data-integration-and-llms/project/results/patient_graphs_json/MM033_KG.json\n",
      "Saved /Users/SJp/Documents/project_local/VIB-LLM-SS/ml-summerschool-2025/topic-1_data-integration-and-llms/project/results/patient_graphs_json/MM077_KG.json\n",
      "Saved /Users/SJp/Documents/project_local/VIB-LLM-SS/ml-summerschool-2025/topic-1_data-integration-and-llms/project/results/patient_graphs_json/MM079_KG.json\n",
      "Saved /Users/SJp/Documents/project_local/VIB-LLM-SS/ml-summerschool-2025/topic-1_data-integration-and-llms/project/results/patient_graphs_json/MM025_KG.json\n",
      "Saved /Users/SJp/Documents/project_local/VIB-LLM-SS/ml-summerschool-2025/topic-1_data-integration-and-llms/project/results/patient_graphs_json/MM089_KG.json\n",
      "Saved /Users/SJp/Documents/project_local/VIB-LLM-SS/ml-summerschool-2025/topic-1_data-integration-and-llms/project/results/patient_graphs_json/MM047_KG.json\n"
     ]
    }
   ],
   "source": [
    "FF.save_patient_graphs_json(patient_explanations, results, clinical, outdir=f\"{global_path}/results/patient_graphs_json\")"
   ]
  },
  {
   "cell_type": "markdown",
   "id": "2fd7e75a",
   "metadata": {},
   "source": [
    "## LLM empowered results integration"
   ]
  },
  {
   "cell_type": "markdown",
   "id": "d590b5df",
   "metadata": {},
   "source": [
    "### Generate the summary report of drug response prediction results including the feature SHAP"
   ]
  },
  {
   "cell_type": "code",
   "execution_count": null,
   "id": "60a19b77",
   "metadata": {},
   "outputs": [],
   "source": [
    "from langchain.chat_models import init_chat_model\n",
    "from langchain_core.messages import HumanMessage\n",
    "from langchain_core.messages import SystemMessage, HumanMessage, AIMessage\n",
    "from langchain_core.prompts import ChatPromptTemplate\n",
    "from langchain_core.output_parsers import StrOutputParser\n",
    "from langchain_core.prompts import ChatPromptTemplate\n",
    "from langchain_core.output_parsers import StrOutputParser\n",
    "from langchain_core.prompts import ChatPromptTemplate, MessagesPlaceholder\n",
    "from langchain_core.messages import HumanMessage, AIMessage, BaseMessage\n",
    "from langchain.prompts import ChatPromptTemplate\n",
    "from langchain.output_parsers import StructuredOutputParser, ResponseSchema\n",
    "from typing import Optional, List, Union\n",
    "from pydantic import BaseModel, Field, field_validator\n",
    "from typing import List, Optional\n",
    "from langchain_core.output_parsers import StrOutputParser\n",
    "from langchain_core.output_parsers import PydanticOutputParser\n",
    "import json\n",
    "import os\n",
    "import re\n",
    "import glob\n",
    "import json\n",
    "from json import JSONEncoder\n"
   ]
  },
  {
   "cell_type": "code",
   "execution_count": null,
   "id": "1cb12eef",
   "metadata": {},
   "outputs": [],
   "source": [
    "# Pick via provider:model string → works across providers\n",
    "llm = init_chat_model(model=\"gemini-2.5-flash\",\n",
    "                      model_provider=\"google_genai\",\n",
    "                      temperature=0.2)\n",
    "\n",
    "\n",
    "prompt = ChatPromptTemplate.from_messages([\n",
    "    (\"system\", \"\"\"You are a biomedical-AI assistant that interprets predictions from a AI-powered predictive model for clinicians.\n",
    "You are given a JSON with some information regarding the patient and 2 drugs. In the JSON, you are given:\n",
    "- Patient ID\n",
    "- Disease type\n",
    "- For each drug, you will be given:\n",
    "    - The drug name\n",
    "    - The predicted class. This class can be one of three options: \n",
    "        - No effect if the drug is predicted as having no effect on treating the patient disease\n",
    "        - Positive response if the drug is predicted as having a positive effect on treating the patient disease\n",
    "        - Adverse effects if the drug is predicted as having a negative effect on the patient disease\n",
    "    - Each predicted class has an associated probability\n",
    "    - Each predicted class has associated features, that are responsible for the prediction. To reflect the importance of these features on the prediction we have the SHAP values. We have the top positive SHAP values and the top negative SHAP values.\n",
    "\n",
    "Taking into account this JSON and the information explained above, I want you as a smart biomedical-AI assistant to pick the best of the two drugs. I don't want you to talk about the accuracy of the predicition for more than one sentence.\n",
    "Once you have  picked the best drug for my patient, I want you to write a small report on the chosen drug, please include both positive an negative points about the drug, make it as straigthforward as possible (a maximum of 10 bullet points in total), and targeted towards clinicians.\n",
    "After that, please write a short paragraph about the features involved in the decision making process, and look in the litterature for information about the relationship between these features and the disease the patient has.\"\"\"),\n",
    "    (\"human\", \"{JSON_input}\")\n",
    "])"
   ]
  },
  {
   "cell_type": "code",
   "execution_count": null,
   "id": "946e74f1",
   "metadata": {},
   "outputs": [],
   "source": [
    "# Path to your JSON file (e.g., patient PKG or classification output)\n",
    "json_path = f\"{global_path}/results/MM082.json\"\n",
    "\n",
    "with open(json_path, \"r\") as f:\n",
    "    patient_json = json.load(f)"
   ]
  },
  {
   "cell_type": "code",
   "execution_count": null,
   "id": "45dbdaee",
   "metadata": {},
   "outputs": [
    {
     "name": "stdout",
     "output_type": "stream",
     "text": [
      "For patient MM082, the AI-powered predictive model suggests that the **Dexamethasone+Bortezomib+Pomalidomide (Proteasome Inhibitor regime)** is the most suitable option, as it is the only regimen predicted to have a positive therapeutic effect. The model's confidence in this prediction is 88.6%. The other evaluated drugs (Lenalidomide_Corticosteroid + IMID, Prednisone_Corticosteroid, and Thalidomide_Corticosteroid + IMID) were all predicted to have no effect.\n",
      "\n",
      "---\n",
      "\n",
      "### Clinical Report: Dexamethasone+Bortezomib+Pomalidomide for Patient MM082\n",
      "\n",
      "**Predicted Outcome:** Positive therapeutic effect.\n",
      "\n",
      "**Key Considerations for Clinicians:**\n",
      "\n",
      "*   **Positive Indicators (Factors favoring response):**\n",
      "    *   Elevated levels of **YY1** (Yin Yang 1) protein are associated with a positive response to this regimen. YY1 is a transcription factor often overexpressed in Multiple Myeloma (MM), promoting cell growth and survival.\n",
      "    *   Higher expression of **RHOT2** (Miro2), involved in mitochondrial dynamics, contributes to the predicted positive outcome.\n",
      "    *   Increased levels of **EIF4E2**, a eukaryotic translation initiation factor, are linked to a favorable response.\n",
      "    *   Higher **ALOX5AP** (Arachidonate 5-lipoxygenase-activating protein) expression, involved in inflammatory pathways, is a positive indicator.\n",
      "    *   Elevated **TPP2** (Tripeptidyl Peptidase 2) levels, a large protease, are associated with a better predicted response, potentially interacting with the proteasome inhibitor component of the regimen.\n",
      "\n",
      "*   **Negative Indicators (Factors potentially mitigating response):**\n",
      "    *   High levels of **MYO1C** (Myosin IC), a protein involved in cell motility, are associated with a less favorable response.\n",
      "    *   Increased expression of **TAP2** (Transporter Associated with Antigen Processing 2), crucial for MHC class I antigen presentation, negatively impacts the predicted efficacy.\n",
      "    *   Elevated **DHODH** (Dihydroorotate Dehydrogenase), an enzyme in pyrimidine synthesis, is linked to a reduced likelihood of positive response.\n",
      "    *   The presence of **IGKV3D-20**, a specific immunoglobulin kappa variable gene segment, also contributes negatively to the predicted outcome.\n",
      "\n",
      "---\n",
      "\n",
      "### Features Involved in Decision Making\n",
      "\n",
      "The model's prediction for patient MM082 is primarily driven by the patient's unique proteomic profile.\n",
      "patient_ID='MM082' disease_type='Multiple Myeloma' recomended_drug_name='Dexamethasone+Bortezomib+Pomalidomide' info_on_recommended_drug='Dexamethasone+Bortezomib+Pomalidomide (Proteasome Inhibitor regime) is predicted to have a positive therapeutic effect for patient MM082. Key considerations include:\\nPositive Indicators (Factors favoring response):\\n- Elevated levels of YY1 (Yin Yang 1) protein.\\n- Higher expression of RHOT2 (Miro2).\\n- Increased levels of EIF4E2.\\n- Higher ALOX5AP (Arachidonate 5-lipoxygenase-activating protein) expression.\\n- Elevated TPP2 (Tripeptidyl Peptidase 2) levels.\\nNegative Indicators (Factors potentially mitigating response):\\n- High levels of MYO1C (Myosin IC).\\n- Increased expression of TAP2 (Transporter Associated with Antigen Processing 2).\\n- Elevated DHODH (Dihydroorotate Dehydrogenase).\\n- The presence of IGKV3D-20, a specific immunoglobulin kappa variable gene segment.' decision_making_process=\"An AI-powered predictive model suggested Dexamethasone+Bortezomib+Pomalidomide as the most suitable option, being the only regimen predicted to have a positive therapeutic effect with 88.6% confidence. Other evaluated drugs (Lenalidomide_Corticosteroid + IMID, Prednisone_Corticosteroid, and Thalidomide_Corticosteroid + IMID) were predicted to have no effect. The model's prediction is primarily driven by the patient's unique proteomic profile, including specific positive and negative indicators.\"\n"
     ]
    }
   ],
   "source": [
    "chain = prompt | llm | StrOutputParser()\n",
    "response = chain.invoke({\"JSON_input\": patient_json})\n",
    "print(response)\n",
    "\n",
    "class model_prediction_report(BaseModel):\n",
    "    patient_ID: Optional[Union[str, int]]  # \"555-1234\", 5551234, or None\n",
    "    disease_type: str = Field(description=\"e.g., Melanoma\")\n",
    "    recomended_drug_name: str = Field(description = \"e.g., Pembrolizumab\")\n",
    "    info_on_recommended_drug: str = Field(description = \"e.g., Pembrolizumab is a PD-1 inhibitor that has demonstrated significant efficacy in advanced melanoma, improving both progression-free and overall survival. Clinically, it can induce durable responses in a subset of patients. However, its use is associated with immune-related adverse effects, including colitis, hepatitis, pneumonitis, endocrinopathies (such as hypothyroidism or hypophysitis), and less commonly severe dermatologic or neurologic toxicities. Careful monitoring and prompt management of these toxicities are essential during treatment\")\n",
    "    decision_making_process: str \n",
    "\n",
    "parser = PydanticOutputParser(pydantic_object=model_prediction_report)\n",
    "format_instructions = parser.get_format_instructions()\n",
    "prompt = ChatPromptTemplate.from_messages([\n",
    "    (\"system\", \"Extract per schema:\\n{format_instructions}\"),\n",
    "    (\"human\", \"{text}\"),\n",
    "]).partial(format_instructions=format_instructions)\n",
    "\n",
    "parsing_llm = prompt | llm | parser\n",
    "\n",
    "# if `drug_text` is an AIMessage, use .content; otherwise pass the raw string\n",
    "result = parsing_llm.invoke({\"text\": response})\n",
    "print(result)\n",
    "\n",
    "class MyEncoder(JSONEncoder):\n",
    "    def default(self, o):\n",
    "        return o.__dict__\n",
    "MyEncoder().encode(result)\n",
    "\n",
    "with open(\".json\", \"w\") as f:\n",
    "    json.dump(MyEncoder().encode(result), f, indent=2)"
   ]
  },
  {
   "cell_type": "markdown",
   "id": "df69d11b",
   "metadata": {},
   "source": [
    "### Functional Analysis of SHAP Features by Predicted Drug Response Class"
   ]
  },
  {
   "cell_type": "code",
   "execution_count": 13,
   "id": "1ab127f5",
   "metadata": {},
   "outputs": [
    {
     "name": "stderr",
     "output_type": "stream",
     "text": [
      "/Users/SJp/Documents/project_local/VIB-LLM-SS/ml-summerschool-2025/topic-1_data-integration-and-llms/project/src/GSEA_bioassistant.py:90: LangChainDeprecationWarning: The method `BaseTool.__call__` was deprecated in langchain-core 0.1.47 and will be removed in 1.0. Use :meth:`~invoke` instead.\n",
      "  enrichr_query({\"gene_list\": list(set(feats[\"positive\"]))}) if feats[\"positive\"] else None\n"
     ]
    },
    {
     "name": "stdout",
     "output_type": "stream",
     "text": [
      "\n",
      "### Drugs Predicted as no_effect\n",
      "The SHAP features indicate distinct biological processes influencing the \"no_effect\" prediction.\n",
      "\n",
      "**Positive SHAP features (supporting \"no_effect\")** are primarily associated with the **regulation of immune responses**, particularly involving T cells (e.g., positive regulation of T cell proliferation and activation, regulation of immune response). Other notable pathways include **cell-cell adhesion mediated by integrin**, **posttranscriptional regulation of gene expression**, and **protein-containing complex assembly**. Key genes in these processes include `CD3E`, `IL15`, `ICAM3`, `NUDT21`, and `RBM4B`. These pathways suggest a more controlled or modulated cellular state, potentially contributing to a \"no_effect\" outcome.\n",
      "\n",
      "**Negative SHAP features (against \"no_effect\")** are strongly linked to robust **inflammatory and cytotoxic immune responses**. Prominent terms include **neutrophil degranulation**, **neutrophil activation involved in immune response**, **neutrophil mediated immunity**, and **positive regulation of T cell mediated cytotoxicity/immunity**. The **interferon-gamma-mediated signaling pathway** is also significant. Key genes involved are `CTSZ`, `HLA-B`, `HP`, `SRP14`, `SERPINB6`, and `HLA-DRA`. These pathways indicate a strong, active immune response, which would argue against a \"no_effect\" prediction, suggesting an \"effect\" is likely occurring.\n",
      "\n",
      "In summary, the model predicts \"no_effect\" when pathways related to general immune regulation and cellular maintenance are active, while it predicts an \"effect\" when there is evidence of strong, specific inflammatory and cytotoxic immune responses involving neutrophils and T cells.\n",
      "\n",
      "### Drugs Predicted as positive_effect\n",
      "The positive SHAP features, supporting a \"positive_effect,\" are primarily associated with the **negative regulation of gene expression**, particularly through **miRNA-mediated mechanisms**. Key processes include mRNA cleavage, miRNA loading onto RISC, and regulation of miRNA-mediated inhibition of translation, involving genes like YY1, AGO1, and EIF4E2. Additionally, pathways related to **lipoxin metabolic processes** (ALOX5AP) and the **establishment of mitochondrion localization** (RHOT2) are highlighted.\n",
      "\n",
      "Conversely, the negative SHAP features, arguing against a \"positive_effect,\" are strongly linked to **pyrimidine nucleobase and ribonucleotide biosynthetic and metabolic processes**, with DHODH being a prominent gene. Other pathways include the **positive regulation of vascular endothelial growth factor signaling** (MYO1C), **vesicle fusion with the ERGIC membrane** (TAP2), and **antigen processing and presentation via MHC class I** (TAP2). Regulation of chemokine-mediated signaling pathways (RNF113A) also appears in this category.\n"
     ]
    }
   ],
   "source": [
    "# notebook.ipynb\n",
    "import json\n",
    "from src.GSEA_bioassistant import get_llm_with_tools, get_prompt_chain, analyze_patient\n",
    "\n",
    "# --- Load a patient JSON ---\n",
    "with open(f\"{global_path}/results/patient_res_jsons/MM082.json\", \"r\") as f:\n",
    "    patient_data = json.load(f)\n",
    "\n",
    "patient_id = \"MM082\"\n",
    "\n",
    "# --- Setup LLM + chain ---\n",
    "llm_with_tools = get_llm_with_tools()\n",
    "chain = get_prompt_chain(llm_with_tools)\n",
    "\n",
    "# --- Analyze patient ---\n",
    "results, summaries = analyze_patient(patient_data, patient_id, chain)\n",
    "\n",
    "# --- Show results ---\n",
    "for cls, summary in summaries.items():\n",
    "    print(f\"\\n### Drugs Predicted as {cls}\")\n",
    "    print(summary)\n"
   ]
  },
  {
   "cell_type": "markdown",
   "id": "8c402869",
   "metadata": {},
   "source": [
    "### Summarizing patient knowledge graph"
   ]
  },
  {
   "cell_type": "code",
   "execution_count": null,
   "id": "3dad0aad",
   "metadata": {},
   "outputs": [],
   "source": []
  }
 ],
 "metadata": {
  "kernelspec": {
   "display_name": ".venv",
   "language": "python",
   "name": "python3"
  },
  "language_info": {
   "codemirror_mode": {
    "name": "ipython",
    "version": 3
   },
   "file_extension": ".py",
   "mimetype": "text/x-python",
   "name": "python",
   "nbconvert_exporter": "python",
   "pygments_lexer": "ipython3",
   "version": "3.13.7"
  }
 },
 "nbformat": 4,
 "nbformat_minor": 5
}
